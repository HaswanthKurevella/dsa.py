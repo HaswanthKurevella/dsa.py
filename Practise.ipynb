{
 "cells": [
  {
   "cell_type": "markdown",
   "metadata": {},
   "source": [
    "# Sock Merchant Problem\n",
    "\n",
    "There is a large pile of socks that must be paired by color. Given an array of integers representing the color of each sock, determine how many pairs of socks with matching colors there are.\n",
    "\n",
    "## Example\n",
    "\n",
    "n = 7\n",
    "ar = [1, 2, 1, 2, 1, 3, 2]\n",
    "\n",
    "There is one pair of color 1 and one of color 2. There are three odd socks left, one of each color. The number of pairs is 2.\n",
    "\n",
    "## Function Description\n",
    "\n",
    "Complete the `sockMerchant` function in the editor below.\n",
    "\n",
    "`sockMerchant` has the following parameter(s):\n",
    "- `int n`: the number of socks in the pile\n",
    "- `int ar[n]`: the colors of each sock\n",
    "\n",
    "### Returns\n",
    "- `int`: the number of pairs\n",
    "\n",
    "## Input Format\n",
    "\n",
    "The first line contains an integer `n`, the number of socks represented in `ar`.\n",
    "The second line contains `n` space-separated integers, `ar[i]`, the colors of the socks in the pile.\n",
    "\n",
    "## Constraints\n",
    "\n",
    "- 1 ≤ n ≤ 100\n",
    "- 1 ≤ ar[i] ≤ 100 where 0 ≤ i < n\n",
    "\n",
    "## Sample Input\n",
    "9   \n",
    "10 20 20 10 10 30 50 10 20 \n",
    "## Sample Outtput\n",
    "3\n"
   ]
  },
  {
   "cell_type": "code",
   "execution_count": 6,
   "metadata": {},
   "outputs": [
    {
     "name": "stdout",
     "output_type": "stream",
     "text": [
      "3\n"
     ]
    }
   ],
   "source": [
    "def sockMerchant():\n",
    "    pairs=0\n",
    "    n=int(input())\n",
    "    arr=list(map(int,input().split()))\n",
    "    arr1=set(arr)\n",
    "    for i in arr1:\n",
    "        k=arr.count(i)\n",
    "        pairs+=k//2\n",
    "    print(n-pairs*2)\n",
    "sockMerchant()"
   ]
  },
  {
   "cell_type": "markdown",
   "metadata": {},
   "source": [
    "# Simple Array Sum\n",
    "\n",
    "Given an array of integers, find the sum of its elements.\n",
    "\n",
    "For example, if the array `ar = [1, 2, 3]`, `1 + 2 + 3 = 6`, so return 6.\n",
    "\n",
    "## Function Description\n",
    "\n",
    "Complete the *simpleArraySum* function in the editor below. It must return the sum of the array elements as an integer.\n",
    "\n",
    "simpleArraySum has the following parameter(s):\n",
    "- *ar*: an array of integers\n",
    "\n",
    "## Input Format\n",
    "\n",
    "The first line contains an integer, `n`, denoting the size of the array.\n",
    "The second line contains `n` space-separated integers representing the array's elements.\n",
    "\n",
    "## Constraints\n",
    "\n",
    "0 < n, ar[i] ≤ 1000\n",
    "\n",
    "## Output Format\n",
    "\n",
    "Print the sum of the array's elements as a single integer.\n",
    "\n",
    "## Sample Input\n",
    "6  \n",
    "1 2 3 4 10 11  \n",
    "## Sample Output\n",
    "31"
   ]
  },
  {
   "cell_type": "code",
   "execution_count": 7,
   "metadata": {},
   "outputs": [
    {
     "name": "stdout",
     "output_type": "stream",
     "text": [
      "31\n"
     ]
    }
   ],
   "source": [
    "def simpleArraySum():\n",
    "    sum=0\n",
    "    n=int(input())\n",
    "    arr=list(map(int,input().split()))\n",
    "    for i in arr:\n",
    "        sum+=i\n",
    "    return sum\n",
    "print(simpleArraySum())"
   ]
  },
  {
   "cell_type": "markdown",
   "metadata": {},
   "source": [
    "# Breaking the Records\n",
    "\n",
    "Maria plays college basketball and wants to go pro. Each season she maintains a record of her play. She tabulates the number of times she breaks her season record for *most points* and *least points* in a game. Points scored in the first game establish her record for the season, and she begins counting from there.\n",
    "\n",
    "## Example\n",
    "\n",
    "scores = [12, 24, 10, 24]\n",
    "\n",
    "Scores are in the same order as the games played. She tabulates her results as follows:\n",
    "\n",
    "| Game | Score | Minimum | Maximum | Count Min | Count Max |\n",
    "|------|-------|---------|---------|-----------|-----------|\n",
    "|  0   |  12   |   12    |   12    |     0     |     0     |\n",
    "|  1   |  24   |   12    |   24    |     0     |     1     |\n",
    "|  2   |  10   |   10    |   24    |     1     |     1     |\n",
    "|  3   |  24   |   10    |   24    |     1     |     1     |\n",
    "\n",
    "Given the scores for a season, determine the number of times Maria breaks her records for *most* and *least* points scored during the season.\n",
    "\n",
    "## Function Description\n",
    "\n",
    "Complete the *breakingRecords* function in the editor below.\n",
    "\n",
    "breakingRecords has the following parameter(s):\n",
    "- *int scores[n]:* points scored per game\n",
    "\n",
    "## Returns\n",
    "\n",
    "- *int[2]:* An array with the numbers of times she broke her records. Index 0 is for breaking *most points* records, and index 1 is for breaking *least points* records.\n",
    "\n",
    "## Input Format\n",
    "\n",
    "The first line contains an integer n, the number of games.\n",
    "The second line contains n space-separated integers describing the respective values of score0, score1, score2, ……, score(n-1).\n",
    "\n",
    "## Constraints\n",
    "\n",
    "- 1 ≤ n ≤ 1000\n",
    "- 0 ≤ scores[i] ≤ 10^8\n",
    "\n",
    "## Sample Input\n",
    "9  \n",
    "10 5 20 20 4 5 2 25 1\n",
    "## Sample Output\n",
    "2 4"
   ]
  },
  {
   "cell_type": "code",
   "execution_count": 12,
   "metadata": {},
   "outputs": [
    {
     "data": {
      "text/plain": [
       "[2, 4]"
      ]
     },
     "execution_count": 12,
     "metadata": {},
     "output_type": "execute_result"
    }
   ],
   "source": [
    "def breakingRecords():\n",
    "    n=int(input())\n",
    "    scores=list(map(int,input().split()))\n",
    "    hScore,lScore=scores[0],scores[0]\n",
    "    countH,countL=0,0\n",
    "    for i in scores:\n",
    "        if i>hScore:\n",
    "            hScore=i\n",
    "            countH+=1\n",
    "        elif i<lScore:\n",
    "            lScore=i\n",
    "            countL+=1\n",
    "    return [countH,countL]\n",
    "breakingRecords()"
   ]
  },
  {
   "cell_type": "markdown",
   "metadata": {},
   "source": [
    "# Number Line Jumps\n",
    "\n",
    "You are choreographing a circus show with various animals. For one act, you are given two kangaroos on a number line ready to jump in the positive direction (i.e., toward positive infinity).\n",
    "\n",
    "- The first kangaroo starts at location x1 and moves at a rate of v1 meters per jump.\n",
    "- The second kangaroo starts at location x2 and moves at a rate of v2 meters per jump.\n",
    "\n",
    "You have to figure out a way to get both kangaroos at the same location at the same time as part of the show. If it is possible, return YES, otherwise return NO.\n",
    "\n",
    "## Example\n",
    "\n",
    "x1 = 2\n",
    "v1 = 1\n",
    "x2 = 1\n",
    "v2 = 2\n",
    "\n",
    "After one jump, they are both at x = 3, (x1 + v1 = 2 + 1, x2 + v2 = 1 + 2), so the answer is YES.\n",
    "\n",
    "## Function Description\n",
    "\n",
    "Complete the function *kangaroo* in the editor below.\n",
    "\n",
    "kangaroo has the following parameter(s):\n",
    "\n",
    "- *int x1, int v1*: starting position and jump distance for kangaroo 1\n",
    "- *int x2, int v2*: starting position and jump distance for kangaroo 2\n",
    "\n",
    "## Returns\n",
    "\n",
    "- *string*: either YES or NO\n",
    "\n",
    "## Input Format\n",
    "\n",
    "A single line of four space-separated integers denoting the respective values of x1, v1, x2, and v2.\n",
    "\n",
    "## Constraints\n",
    "\n",
    "[Note: Constraints were not provided in the original text]\n",
    "\n",
    "## Sample Input \n",
    "0 3 4 2\n",
    "## Sample Output\n",
    "YES"
   ]
  },
  {
   "cell_type": "code",
   "execution_count": null,
   "metadata": {},
   "outputs": [],
   "source": []
  }
 ],
 "metadata": {
  "kernelspec": {
   "display_name": "Python 3 (ipykernel)",
   "language": "python",
   "name": "python3"
  },
  "language_info": {
   "codemirror_mode": {
    "name": "ipython",
    "version": 3
   },
   "file_extension": ".py",
   "mimetype": "text/x-python",
   "name": "python",
   "nbconvert_exporter": "python",
   "pygments_lexer": "ipython3",
   "version": "3.9.13"
  }
 },
 "nbformat": 4,
 "nbformat_minor": 2
}
