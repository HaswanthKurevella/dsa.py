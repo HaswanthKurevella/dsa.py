{
 "cells": [
  {
   "cell_type": "markdown",
   "metadata": {},
   "source": [
    "# (13/06/24) Conditions"
   ]
  },
  {
   "cell_type": "markdown",
   "metadata": {},
   "source": [
    "## if-else"
   ]
  },
  {
   "cell_type": "markdown",
   "metadata": {},
   "source": [
    "### Boating Problem"
   ]
  },
  {
   "cell_type": "code",
   "execution_count": null,
   "metadata": {},
   "outputs": [],
   "source": [
    "w=int(input())\n",
    "c=int(input())\n",
    "a=int(input())\n",
    "if(75*a+30*c<=w):\n",
    "    print(\"safe\")\n",
    "else:\n",
    "    print(\"drown\")"
   ]
  },
  {
   "cell_type": "markdown",
   "metadata": {},
   "source": [
    "### Nearest 10 multiple"
   ]
  },
  {
   "cell_type": "code",
   "execution_count": null,
   "metadata": {},
   "outputs": [],
   "source": [
    "w=int(input())\n",
    "n=w%10\n",
    "if(n>=5):\n",
    "    print(w+(10-n))\n",
    "else:\n",
    "    print(w-n)\n",
    "\n"
   ]
  },
  {
   "cell_type": "markdown",
   "metadata": {},
   "source": [
    "### Discount,GST Billing"
   ]
  },
  {
   "cell_type": "code",
   "execution_count": 12,
   "metadata": {},
   "outputs": [
    {
     "name": "stdout",
     "output_type": "stream",
     "text": [
      "590.0\n"
     ]
    }
   ],
   "source": [
    "q=int(input('Enter the required quantity'))\n",
    "p=int(input('price of the product'))\n",
    "amount=0\n",
    "if(q>=200):\n",
    "    net=q*p*0.8\n",
    "else:\n",
    "    net=q*p\n",
    "netAmt=net*1.18\n",
    "print(netAmt)"
   ]
  },
  {
   "cell_type": "markdown",
   "metadata": {},
   "source": [
    "### Blood Donor Eligibilty"
   ]
  },
  {
   "cell_type": "code",
   "execution_count": 16,
   "metadata": {},
   "outputs": [
    {
     "name": "stdout",
     "output_type": "stream",
     "text": [
      "not eligible\n"
     ]
    }
   ],
   "source": [
    "a,w,h=int(input()),int(input()),float(input())\n",
    "if(a>=18 and w>45 and h>5.5):\n",
    "    print(\"eligible\")\n",
    "else:\n",
    "    print(\"not eligible\")"
   ]
  },
  {
   "cell_type": "markdown",
   "metadata": {},
   "source": [
    "### insurance eligibility"
   ]
  },
  {
   "cell_type": "code",
   "execution_count": 18,
   "metadata": {},
   "outputs": [
    {
     "name": "stdout",
     "output_type": "stream",
     "text": [
      "insurance eligible\n"
     ]
    }
   ],
   "source": [
    "age=int(input('enter age'))\n",
    "gen=input('m/f')\n",
    "mar=input('y/n')\n",
    "if(mar=='y'):\n",
    "    if((gen=='m'and age>=30)or(gen=='f'and age>=25)):\n",
    "        print(\"insurance eligible\")\n",
    "    else:\n",
    "        print(\"Not elgible\")\n",
    "else:\n",
    "    print(\"Not eligible\")"
   ]
  },
  {
   "cell_type": "code",
   "execution_count": 19,
   "metadata": {},
   "outputs": [
    {
     "name": "stdout",
     "output_type": "stream",
     "text": [
      "insurance eligible\n"
     ]
    }
   ],
   "source": [
    "age=int(input('enter age'))\n",
    "gen=input('m/f')\n",
    "mar=input('y/n')\n",
    "if((gen=='m'and age>=30 and mar=='y')or(gen=='f'and age>=25 and mar=='y')):\n",
    "        print(\"insurance eligible\")\n",
    "else:\n",
    "        print(\"Not elgible\")"
   ]
  },
  {
   "cell_type": "markdown",
   "metadata": {},
   "source": [
    "## if-elif"
   ]
  },
  {
   "cell_type": "markdown",
   "metadata": {},
   "source": [
    "### video share online video sharing platform channel price calculator"
   ]
  },
  {
   "cell_type": "code",
   "execution_count": 20,
   "metadata": {},
   "outputs": [
    {
     "name": "stdout",
     "output_type": "stream",
     "text": [
      "Good\n"
     ]
    }
   ],
   "source": [
    "up=int(input())           #enter the user points(user points are the no.of views and the subscribers count)\n",
    "if(up>=30 and up <=50):\n",
    "    print('Average')\n",
    "elif(up>=51 and up<=60):\n",
    "    print('Good')\n",
    "elif(up>=61 and up<=80):\n",
    "    print('Excellent')\n",
    "elif(up>=81 and up<=100):\n",
    "    print('Good')\n",
    "else:\n",
    "    print(\"enter correct value\")"
   ]
  },
  {
   "cell_type": "markdown",
   "metadata": {},
   "source": [
    "### Electricity bill"
   ]
  },
  {
   "cell_type": "code",
   "execution_count": 20,
   "metadata": {},
   "outputs": [
    {
     "name": "stdout",
     "output_type": "stream",
     "text": [
      "287.5\n"
     ]
    }
   ],
   "source": [
    "u=int(input())      #enter the no of units\n",
    "cost=0\n",
    "if(u>0 and u<=100):\n",
    "    cost=u*1.5\n",
    "elif(u>=100 and u<200):\n",
    "    cost=100*1.5+(u-100)*2.5\n",
    "elif(u>=200 and u<300):\n",
    "    cost=100*1.5+100*2.5+(u-200)*5\n",
    "elif(u<=300):\n",
    "    cost=100*1.5+100*2.5+100*5+(u-300)\n",
    "print(cost)"
   ]
  },
  {
   "cell_type": "markdown",
   "metadata": {},
   "source": [
    "## Nested if"
   ]
  },
  {
   "cell_type": "markdown",
   "metadata": {},
   "source": [
    "### Write the type of a given char (vowel ,consonent,digit,space or a special charecter)"
   ]
  },
  {
   "cell_type": "code",
   "execution_count": 29,
   "metadata": {},
   "outputs": [
    {
     "name": "stdout",
     "output_type": "stream",
     "text": [
      "Special Charecters\n"
     ]
    }
   ],
   "source": [
    "ch=input()\n",
    "if(ch in '1234567890'):\n",
    "    print('digit')\n",
    "elif(ch>'a' and ch <'z') or (ch>'A' and ch<'Z'):\n",
    "    if ch in 'aeiouAEIOU':\n",
    "        print('Vowels')\n",
    "    else:\n",
    "        print('consonants')\n",
    "elif(ch==' '):\n",
    "    print('Space')\n",
    "else:\n",
    "    print('Special Charecters')"
   ]
  },
  {
   "cell_type": "markdown",
   "metadata": {},
   "source": [
    "### Check max among three"
   ]
  },
  {
   "cell_type": "code",
   "execution_count": 34,
   "metadata": {},
   "outputs": [
    {
     "name": "stdout",
     "output_type": "stream",
     "text": [
      "50\n"
     ]
    }
   ],
   "source": [
    "a,b,c=int(input()),int(input()),int(input())\n",
    "ch=int(input(\"enter the choice\"))\n",
    "if ch==1:\n",
    "    if(b>c):\n",
    "        print(b)\n",
    "    elif(b<c):\n",
    "        print(c)\n",
    "    else:\n",
    "        print('equal')\n",
    "elif ch==2:\n",
    "    if(a>c):\n",
    "        print(a)\n",
    "    elif(a<c):\n",
    "        print(c)\n",
    "    else:\n",
    "        print('equal')\n",
    "elif ch==3:\n",
    "    if(a>b):\n",
    "        print(a)\n",
    "    elif(a<b):\n",
    "        print(b)\n",
    "    else:\n",
    "        print('equal')\n",
    "else:\n",
    "    print('enter right choice')"
   ]
  },
  {
   "cell_type": "markdown",
   "metadata": {},
   "source": [
    "### Loan Program\n",
    "An employee cannot enjoy more than 2 loans at a time\n",
    ">**case1**:  \n",
    ">10000  \n",
    ">20000  \n",
    ">75000  \n",
    "\n",
    ">**output**:  \n",
    ">10000 20000  \n",
    ">75000  \n",
    ">0  \n",
    "max amount loan=50,000  "
   ]
  },
  {
   "cell_type": "code",
   "execution_count": 35,
   "metadata": {},
   "outputs": [
    {
     "name": "stdout",
     "output_type": "stream",
     "text": [
      "10000 20000\n",
      "75000\n",
      "0\n"
     ]
    }
   ],
   "source": [
    "a,b,c=int(input()),int(input()),int(input())\n",
    "if (a>0 or b>0):\n",
    "    print(a,b)\n",
    "    print(c,0,sep='\\n')\n",
    "else:\n",
    "    print(a,b)\n",
    "    print(c,50000-a-b,sep='\\n')\n"
   ]
  },
  {
   "cell_type": "markdown",
   "metadata": {},
   "source": [
    "### 4 sections in a registered batch"
   ]
  },
  {
   "cell_type": "code",
   "execution_count": 38,
   "metadata": {},
   "outputs": [
    {
     "name": "stdout",
     "output_type": "stream",
     "text": [
      "26.0\n",
      "26.0\n",
      "26.0\n",
      "27.0\n"
     ]
    }
   ],
   "source": [
    "p=int(input())\n",
    "if p>=100 and p<=200:\n",
    "    if p%4==0:\n",
    "        sec=p/4\n",
    "        int(sec)\n",
    "        print(sec,sec,sec,sec,sep='\\n')\n",
    "    else:\n",
    "        sec=(p-p%4)/4\n",
    "        sec4=sec+p%4\n",
    "        int(sec)\n",
    "        int(sec4)\n",
    "        print(sec,sec,sec,sec4,sep='\\n')\n",
    "else:\n",
    "    print(\"Invalid\")"
   ]
  },
  {
   "cell_type": "code",
   "execution_count": 40,
   "metadata": {},
   "outputs": [
    {
     "name": "stdout",
     "output_type": "stream",
     "text": [
      "26\n",
      "26\n",
      "26\n",
      "27\n"
     ]
    }
   ],
   "source": [
    "k=int(input())\n",
    "if k>100 and k<=200:\n",
    "    k=p//4\n",
    "    print(k,k,k,k+p%4,sep='\\n')\n",
    "else:\n",
    "    print('invalid')"
   ]
  },
  {
   "cell_type": "markdown",
   "metadata": {},
   "source": [
    "### pairs of alphabets"
   ]
  },
  {
   "cell_type": "code",
   "execution_count": 48,
   "metadata": {},
   "outputs": [
    {
     "name": "stdout",
     "output_type": "stream",
     "text": [
      "65\n",
      "1\n",
      "90\n",
      "Z\n"
     ]
    }
   ],
   "source": [
    "ch=input()\n",
    "print(ord(ch))\n",
    "if ch>='a' and ch<='z':\n",
    "    n=ord(ch)-96\n",
    "    print(n)\n",
    "    pair=28-n+95\n",
    "    print(pair)\n",
    "    print(chr(pair))\n",
    "elif ch>='A' and ch<='Z':\n",
    "    n=ord(ch)-64\n",
    "    print(n)\n",
    "    pair=28-n+63\n",
    "    print(pair)\n",
    "    print(chr(pair))\n"
   ]
  },
  {
   "cell_type": "code",
   "execution_count": 53,
   "metadata": {},
   "outputs": [
    {
     "name": "stdout",
     "output_type": "stream",
     "text": [
      "Z\n"
     ]
    }
   ],
   "source": [
    "ch=input()\n",
    "if ch>='a' and ch<='z':\n",
    "    print(chr(ord('a')+ord('z')-ord(ch)))\n",
    "elif ch>='A' and ch<='Z':\n",
    "        print(chr(ord('A')+ord('Z')-ord(ch)))"
   ]
  },
  {
   "cell_type": "markdown",
   "metadata": {},
   "source": [
    "# (14/06/24) Loops"
   ]
  },
  {
   "cell_type": "markdown",
   "metadata": {},
   "source": [
    ">For Loop  \n",
    ">while loop  \n",
    ">> while condition1 :  \n",
    ">>>.....  \n",
    ">>>.....  \n",
    ">>>updation  \n",
    ">>>        \n",
    "\n",
    "\n",
    ">while else loop  \n",
    "\n",
    ">Break  \n",
    ">Continue  \n",
    ">Pass"
   ]
  },
  {
   "cell_type": "markdown",
   "metadata": {},
   "source": [
    "## while loop"
   ]
  },
  {
   "cell_type": "markdown",
   "metadata": {},
   "source": [
    "### 1 to n"
   ]
  },
  {
   "cell_type": "code",
   "execution_count": 57,
   "metadata": {},
   "outputs": [
    {
     "name": "stdout",
     "output_type": "stream",
     "text": [
      "1\n",
      "2\n",
      "3\n",
      "4\n",
      "5\n",
      "6\n",
      "7\n",
      "8\n"
     ]
    }
   ],
   "source": [
    "n=int(input())\n",
    "i=1\n",
    "while (i<=n):\n",
    "    print (i)\n",
    "    i=i+1"
   ]
  },
  {
   "cell_type": "markdown",
   "metadata": {},
   "source": [
    "### 1 to n even"
   ]
  },
  {
   "cell_type": "code",
   "execution_count": 65,
   "metadata": {},
   "outputs": [
    {
     "name": "stdout",
     "output_type": "stream",
     "text": [
      "2 4 6 8 "
     ]
    }
   ],
   "source": [
    "n=int(input())\n",
    "i=1\n",
    "while (i<=n):\n",
    "    if i%2==0:\n",
    "        print (i, end=' ')\n",
    "    i=i+1"
   ]
  },
  {
   "cell_type": "markdown",
   "metadata": {},
   "source": [
    "### 1 to  n odd"
   ]
  },
  {
   "cell_type": "code",
   "execution_count": 66,
   "metadata": {},
   "outputs": [
    {
     "name": "stdout",
     "output_type": "stream",
     "text": [
      "1 3 5 7 "
     ]
    }
   ],
   "source": [
    "n=int(input())\n",
    "i=1\n",
    "while (i<=n):\n",
    "    if i%2!=0:\n",
    "        print (i, end=' ')\n",
    "    i=i+1"
   ]
  },
  {
   "cell_type": "markdown",
   "metadata": {},
   "source": [
    "### n to i"
   ]
  },
  {
   "cell_type": "code",
   "execution_count": 68,
   "metadata": {},
   "outputs": [
    {
     "name": "stdout",
     "output_type": "stream",
     "text": [
      "8 7 6 5 4 3 2 1 "
     ]
    }
   ],
   "source": [
    "n=int(input())\n",
    "while (n>0):\n",
    "    print (n, end=' ')\n",
    "    n=n-1"
   ]
  },
  {
   "cell_type": "markdown",
   "metadata": {},
   "source": [
    "### Sum"
   ]
  },
  {
   "cell_type": "code",
   "execution_count": 73,
   "metadata": {},
   "outputs": [
    {
     "name": "stdout",
     "output_type": "stream",
     "text": [
      "     0\n",
      "     1\n",
      "     2\n",
      "     3\n",
      "     4\n",
      "     5\n",
      "     6\n",
      "     7\n",
      "     8\n",
      "     9\n",
      "     10\n",
      "sum: 55\n"
     ]
    }
   ],
   "source": [
    "n=int(input())\n",
    "i=0\n",
    "sum=0\n",
    "while (i<=n):\n",
    "    print ('    ',i)\n",
    "    sum+=i\n",
    "    i=i+1\n",
    "print('sum:',sum)"
   ]
  },
  {
   "cell_type": "markdown",
   "metadata": {},
   "source": [
    "### Factorial"
   ]
  },
  {
   "cell_type": "code",
   "execution_count": 75,
   "metadata": {},
   "outputs": [
    {
     "name": "stdout",
     "output_type": "stream",
     "text": [
      "120\n"
     ]
    }
   ],
   "source": [
    "n=int(input())\n",
    "i=1\n",
    "prod=1\n",
    "while (i<=n):\n",
    "    prod*=i\n",
    "    i=i+1\n",
    "print (prod)"
   ]
  },
  {
   "cell_type": "markdown",
   "metadata": {},
   "source": [
    "### read the values from the user until user enters '-1'"
   ]
  },
  {
   "cell_type": "code",
   "execution_count": 78,
   "metadata": {},
   "outputs": [
    {
     "name": "stdout",
     "output_type": "stream",
     "text": [
      "10\n",
      "19\n",
      "18\n",
      "-8\n",
      "-9\n",
      "-11\n",
      "Negative Sum: -28\n",
      "Positive Sum: 47\n"
     ]
    }
   ],
   "source": [
    "negsum=0\n",
    "posum=0\n",
    "while True:\n",
    "    n=int(input('enter a number'))\n",
    "    print(n)\n",
    "    if n==-1:\n",
    "        break\n",
    "    elif n<0:\n",
    "        negsum+=n\n",
    "    else:\n",
    "        posum+=n\n",
    "print('Negative Sum:',negsum)\n",
    "print('Positive Sum:',posum)\n",
    "        "
   ]
  },
  {
   "cell_type": "markdown",
   "metadata": {},
   "source": [
    "### print letters until z from the given alphabet"
   ]
  },
  {
   "cell_type": "code",
   "execution_count": 93,
   "metadata": {},
   "outputs": [
    {
     "name": "stdout",
     "output_type": "stream",
     "text": [
      "A B C D E F G H I J K L M N O P Q R S T U V W X Y Z "
     ]
    }
   ],
   "source": [
    "ch=input()\n",
    "while (ch>='a' and ch<='z') or (ch>='A' and ch<='Z'):\n",
    "    print(ch,end=' ')\n",
    "    ch=chr(ord(ch)+1)"
   ]
  },
  {
   "cell_type": "markdown",
   "metadata": {},
   "source": [
    "### Print the following series upto n digits\n",
    "series:5,7,6,9,7,11,8,13  \n",
    "n=10->10 values  \n",
    "n=5->5 values  "
   ]
  },
  {
   "cell_type": "code",
   "execution_count": 7,
   "metadata": {},
   "outputs": [
    {
     "name": "stdout",
     "output_type": "stream",
     "text": [
      "5 7 6 9 7 "
     ]
    }
   ],
   "source": [
    "n=int(input())\n",
    "in1=5\n",
    "in2=7\n",
    "i=1\n",
    "# print(n)\n",
    "while i<=n:\n",
    "    if i%2==0:\n",
    "        print(in2,end=' ')\n",
    "        in2+=2\n",
    "    else:\n",
    "        print(in1,end=' ')\n",
    "        in1+=1\n",
    "    i=i+1\n"
   ]
  },
  {
   "cell_type": "markdown",
   "metadata": {},
   "source": [
    "### Prime Number"
   ]
  },
  {
   "cell_type": "code",
   "execution_count": 37,
   "metadata": {},
   "outputs": [
    {
     "name": "stdout",
     "output_type": "stream",
     "text": [
      "Not Prime\n"
     ]
    }
   ],
   "source": [
    "n=int(input())\n",
    "i=2\n",
    "c=0\n",
    "if n==0 :\n",
    "    print('Not Prime')\n",
    "elif n==1:\n",
    "    print('Neither prime nor composite')\n",
    "else:\n",
    "    while i<(n//2): #check for i<n**0.5\n",
    "        if n%i==0:\n",
    "            c=1\n",
    "            break\n",
    "        i=i+1\n",
    "    if c==1:\n",
    "        print('Not Prime')\n",
    "    else:\n",
    "        print('prime')\n",
    "    "
   ]
  },
  {
   "cell_type": "markdown",
   "metadata": {},
   "source": [
    "# (15-06-2024) Number Series"
   ]
  },
  {
   "cell_type": "markdown",
   "metadata": {},
   "source": [
    "### Fibbinocci series of first n elements\n",
    "a(n)+a(n-1)=a(n+1)"
   ]
  },
  {
   "cell_type": "code",
   "execution_count": 53,
   "metadata": {},
   "outputs": [
    {
     "name": "stdout",
     "output_type": "stream",
     "text": [
      "0 1 1 2 3 5 8 13 21 34 55 89 "
     ]
    }
   ],
   "source": [
    "def feb(n):\n",
    "    sum=0\n",
    "    if n==1 or n==0:\n",
    "        sum=n\n",
    "    else:\n",
    "        sum=feb(n-1)+feb(n-2)\n",
    "    return sum\n",
    "i=int(input())\n",
    "k=0\n",
    "while k<=i:\n",
    "    print(feb(k),end=' ')\n",
    "    k=k+1"
   ]
  },
  {
   "cell_type": "markdown",
   "metadata": {},
   "source": [
    "### fibbonicci upto n"
   ]
  },
  {
   "cell_type": "code",
   "execution_count": 52,
   "metadata": {},
   "outputs": [
    {
     "name": "stdout",
     "output_type": "stream",
     "text": [
      "0 1 1 2 3 5 8 "
     ]
    }
   ],
   "source": [
    "def feb(n):\n",
    "    sum=0\n",
    "    if n==1 or n==0:\n",
    "        sum=n\n",
    "    else:\n",
    "        sum=feb(n-1)+feb(n-2)\n",
    "    return sum\n",
    "i=int(input())\n",
    "k=0\n",
    "\n",
    "while feb(k)<=i:\n",
    "    print(feb(k),end=' ')\n",
    "    k=k+1"
   ]
  },
  {
   "cell_type": "markdown",
   "metadata": {},
   "source": [
    "### Nth number in fibbinocci"
   ]
  },
  {
   "cell_type": "code",
   "execution_count": 45,
   "metadata": {},
   "outputs": [
    {
     "name": "stdout",
     "output_type": "stream",
     "text": [
      "8\n"
     ]
    }
   ],
   "source": [
    "def feb(n):\n",
    "    sum=0\n",
    "    if n==1 or n==0:\n",
    "        sum=n\n",
    "    else:\n",
    "        sum=feb(n-1)+feb(n-2)\n",
    "    return sum\n",
    "i=int(input())\n",
    "k=0\n",
    "val=0\n",
    "for k in range (i):\n",
    "    val=feb(k)\n",
    "    k=k+1\n",
    "print(val)"
   ]
  },
  {
   "cell_type": "markdown",
   "metadata": {},
   "source": [
    "### Count the no of digits in the given number"
   ]
  },
  {
   "cell_type": "code",
   "execution_count": 57,
   "metadata": {},
   "outputs": [
    {
     "name": "stdout",
     "output_type": "stream",
     "text": [
      "1101231\n",
      "7\n"
     ]
    }
   ],
   "source": [
    "n=int(input())\n",
    "digit=0\n",
    "print(n)\n",
    "while n>0:\n",
    "    n//=10\n",
    "    digit+=1\n",
    "print(digit)"
   ]
  },
  {
   "cell_type": "code",
   "execution_count": 58,
   "metadata": {},
   "outputs": [
    {
     "name": "stdout",
     "output_type": "stream",
     "text": [
      "1001213\n",
      "7\n"
     ]
    }
   ],
   "source": [
    "n=input()\n",
    "print(n)\n",
    "print(len(n))"
   ]
  },
  {
   "cell_type": "markdown",
   "metadata": {},
   "source": [
    "### Difference of the max and min digits of a number"
   ]
  },
  {
   "cell_type": "code",
   "execution_count": 65,
   "metadata": {},
   "outputs": [
    {
     "name": "stdout",
     "output_type": "stream",
     "text": [
      "max: 7\n",
      "min 1\n"
     ]
    }
   ],
   "source": [
    "n=int(input())\n",
    "max=-1\n",
    "min=10\n",
    "while n!=0:\n",
    "    digit=n%10\n",
    "    if digit>max:\n",
    "        max=digit\n",
    "    elif digit<min:\n",
    "        min=digit\n",
    "    n//=10\n",
    "print('max:',max)\n",
    "print('min',min)\n"
   ]
  },
  {
   "cell_type": "markdown",
   "metadata": {},
   "source": [
    "### first and the last digit of a given number"
   ]
  },
  {
   "cell_type": "code",
   "execution_count": 3,
   "metadata": {},
   "outputs": [
    {
     "name": "stdout",
     "output_type": "stream",
     "text": [
      "9 1\n"
     ]
    }
   ],
   "source": [
    "n=int(input())\n",
    "l=n%10\n",
    "while n>9:\n",
    "    n//=10\n",
    "print(n,l)"
   ]
  },
  {
   "cell_type": "markdown",
   "metadata": {},
   "source": [
    "### second first and second last digit of the given number"
   ]
  },
  {
   "cell_type": "code",
   "execution_count": 8,
   "metadata": {},
   "outputs": [
    {
     "name": "stdout",
     "output_type": "stream",
     "text": [
      "2 6\n"
     ]
    }
   ],
   "source": [
    "n=int(input())\n",
    "l=(n//10)%10\n",
    "\n",
    "while n>99:\n",
    "    n//=10\n",
    "print(n%10,l)"
   ]
  },
  {
   "cell_type": "markdown",
   "metadata": {},
   "source": [
    "### Sum of digit"
   ]
  },
  {
   "cell_type": "code",
   "execution_count": 10,
   "metadata": {},
   "outputs": [
    {
     "name": "stdout",
     "output_type": "stream",
     "text": [
      "123\n",
      "6\n"
     ]
    }
   ],
   "source": [
    "n=int(input())\n",
    "sum=0\n",
    "print(n)\n",
    "while n>0:\n",
    "    sum+=n%10\n",
    "    n//=10\n",
    "print(sum)"
   ]
  },
  {
   "cell_type": "markdown",
   "metadata": {},
   "source": [
    "### Sum of even digits and odd digits"
   ]
  },
  {
   "cell_type": "code",
   "execution_count": 11,
   "metadata": {},
   "outputs": [
    {
     "name": "stdout",
     "output_type": "stream",
     "text": [
      "1234\n",
      "even sum: 6\n",
      "odd sum 4\n"
     ]
    }
   ],
   "source": [
    "n=int(input())\n",
    "esum=0\n",
    "osum=0\n",
    "print(n)\n",
    "while n>0:\n",
    "    digit=n%10\n",
    "    if digit%2==0:\n",
    "        esum+=digit\n",
    "    else:\n",
    "        osum+=digit\n",
    "    n//=10\n",
    "print('even sum:',esum)\n",
    "print('odd sum',osum)"
   ]
  },
  {
   "cell_type": "markdown",
   "metadata": {},
   "source": [
    "### Even product odd sum"
   ]
  },
  {
   "cell_type": "code",
   "execution_count": 14,
   "metadata": {},
   "outputs": [
    {
     "name": "stdout",
     "output_type": "stream",
     "text": [
      "2345\n",
      "even prod: 8\n",
      "odd sum 8\n"
     ]
    }
   ],
   "source": [
    "n=int(input())\n",
    "eprod=1\n",
    "osum=0\n",
    "print(n)\n",
    "while n>0:\n",
    "    digit=n%10\n",
    "    if digit%2==0:\n",
    "        eprod*=digit\n",
    "    else:\n",
    "        osum+=digit\n",
    "    n//=10\n",
    "print('even prod:',eprod)\n",
    "print('odd sum',osum)"
   ]
  },
  {
   "cell_type": "markdown",
   "metadata": {},
   "source": [
    "### Armstrong number:\n",
    "An Armstrong number is a number that is equal to the **_sum of digits raise to the power total number of digits in the number_**. It is also known as narcisstic number.  \n",
    "eg: 0, 1, 2, 3, 153, 370,371, 407, 1634, 8208, etc.5 Oct 2018\n"
   ]
  },
  {
   "cell_type": "code",
   "execution_count": 16,
   "metadata": {},
   "outputs": [
    {
     "name": "stdout",
     "output_type": "stream",
     "text": [
      "not armstrong\n"
     ]
    }
   ],
   "source": [
    "n=int(input())\n",
    "k=n\n",
    "t=n\n",
    "c=0\n",
    "while n>0:\n",
    "    c+=1\n",
    "    n//=10\n",
    "s=0\n",
    "while k!=0:\n",
    "    r=k%10\n",
    "    s=s+r**c\n",
    "    k=k//10\n",
    "if s==t:\n",
    "    print(\"armstrong number\")\n",
    "else:\n",
    "    print(\"not armstrong\")"
   ]
  },
  {
   "cell_type": "markdown",
   "metadata": {},
   "source": [
    "### Palindrome number  \n",
    "a word, phrase, or sequence that reads the same backwards as forwards, e.g. madam or nurses run."
   ]
  },
  {
   "cell_type": "code",
   "execution_count": 19,
   "metadata": {},
   "outputs": [
    {
     "name": "stdout",
     "output_type": "stream",
     "text": [
      "1221\n",
      "1221\n",
      "palindrome\n"
     ]
    }
   ],
   "source": [
    "n=int(input())\n",
    "before=n\n",
    "sum=0\n",
    "print(n)\n",
    "while n>0:\n",
    "    sum*=10\n",
    "    digit=n%10\n",
    "    sum+=digit\n",
    "    n//=10\n",
    "print(sum)\n",
    "if before==sum:\n",
    "    print(\"palindrome\")\n",
    "else:\n",
    "    print(\"not palindrome\")"
   ]
  },
  {
   "cell_type": "markdown",
   "metadata": {},
   "source": [
    "### Strong Number  \n",
    "n=123  \n",
    "1!+2!+3!=9  \n",
    "n=145  \n",
    "1!+4!+5!=145  "
   ]
  },
  {
   "cell_type": "code",
   "execution_count": 27,
   "metadata": {},
   "outputs": [
    {
     "name": "stdout",
     "output_type": "stream",
     "text": [
      "145\n",
      "145\n",
      "Strong Number\n"
     ]
    }
   ],
   "source": [
    "def fact(n):\n",
    "    prod=1\n",
    "    while n>0:\n",
    "        prod*=n\n",
    "        n-=1\n",
    "    return prod\n",
    "n=int(input())\n",
    "sum=0\n",
    "before=n\n",
    "print(n)\n",
    "while n>0:\n",
    "    sum+=fact(n%10)\n",
    "    \n",
    "    n//=10\n",
    "print(sum)\n",
    "if before==sum:\n",
    "    print(\"Strong Number\")\n",
    "else:\n",
    "    print(\"not Strong Number\")"
   ]
  },
  {
   "cell_type": "markdown",
   "metadata": {},
   "source": [
    "### Armstrong Series"
   ]
  },
  {
   "cell_type": "code",
   "execution_count": 70,
   "metadata": {},
   "outputs": [
    {
     "name": "stdout",
     "output_type": "stream",
     "text": [
      "1 2 3 4 5 6 7 8 9 153 370 371 407 "
     ]
    }
   ],
   "source": [
    "start=int(input())\n",
    "end=int(input())\n",
    "\n",
    "while start<=end:\n",
    "    n=start\n",
    "    k=n\n",
    "    c=0\n",
    "    while n!=0:\n",
    "        c+=1\n",
    "        n//=10\n",
    "    s=0\n",
    "    while k!=0:\n",
    "        r=k%10\n",
    "        s=s+r**c\n",
    "        k=k//10\n",
    "    if s==start:\n",
    "        print(s,end=' ')\n",
    "    start+=1\n"
   ]
  },
  {
   "cell_type": "markdown",
   "metadata": {},
   "source": [
    "### Palindrome Series"
   ]
  },
  {
   "cell_type": "code",
   "execution_count": 65,
   "metadata": {},
   "outputs": [
    {
     "name": "stdout",
     "output_type": "stream",
     "text": [
      "1 2 3 4 5 6 7 8 9 11 22 33 44 55 66 77 88 99 "
     ]
    }
   ],
   "source": [
    "low=int(input())\n",
    "high=int(input())\n",
    "\n",
    "while low<=high:\n",
    "    low1=low\n",
    "    sum=0\n",
    "    while low1!=0:\n",
    "        sum*=10\n",
    "        digit=low1%10\n",
    "        sum+=digit\n",
    "        low1//=10\n",
    "    if sum==low:\n",
    "        print(low,end=' ')\n",
    "    \n",
    "    # print(sum)\n",
    "    low+=1\n",
    "   \n"
   ]
  },
  {
   "cell_type": "markdown",
   "metadata": {},
   "source": [
    "### Prime series\n"
   ]
  },
  {
   "cell_type": "code",
   "execution_count": 75,
   "metadata": {},
   "outputs": [
    {
     "name": "stdout",
     "output_type": "stream",
     "text": [
      "2 3 5 7 11 13 17 19 23 29 31 37 41 43 47 53 59 61 67 71 73 79 83 89 97 "
     ]
    }
   ],
   "source": [
    "start=int(input())\n",
    "end=int(input())\n",
    "while start<=end:\n",
    "    n=start\n",
    "    i=2\n",
    "    c=0\n",
    "    if n==0 or n==1:\n",
    "        c=1\n",
    "    else:\n",
    "        while i<=(n//2): #check for i<n**0.5\n",
    "            if n%i==0:\n",
    "                c=1\n",
    "                break\n",
    "            i=i+1\n",
    "        if c!=1:\n",
    "            print(n,end=\" \")\n",
    "    start+=1"
   ]
  },
  {
   "cell_type": "markdown",
   "metadata": {},
   "source": [
    "### nth prime number"
   ]
  },
  {
   "cell_type": "code",
   "execution_count": 83,
   "metadata": {},
   "outputs": [
    {
     "name": "stdout",
     "output_type": "stream",
     "text": [
      "9 "
     ]
    }
   ],
   "source": [
    "start=1\n",
    "end=int(input())\n",
    "count=0\n",
    "while True:\n",
    "    n=start\n",
    "    i=2\n",
    "    c=0\n",
    "    while i<=(n//2) and count<=end: #check for i<n**0.5\n",
    "        if n%i==0:\n",
    "            count+=1\n",
    "            break\n",
    "        i=i+1\n",
    "    if count==end:\n",
    "        print(n,end=\" \")\n",
    "        break\n",
    "    start+=1"
   ]
  },
  {
   "cell_type": "markdown",
   "metadata": {},
   "source": [
    "### nth palindrome number"
   ]
  },
  {
   "cell_type": "markdown",
   "metadata": {},
   "source": [
    "### nth armstrong number"
   ]
  },
  {
   "cell_type": "markdown",
   "metadata": {},
   "source": [
    "### nth even"
   ]
  },
  {
   "cell_type": "markdown",
   "metadata": {},
   "source": [
    "### nth odd"
   ]
  },
  {
   "cell_type": "markdown",
   "metadata": {},
   "source": [
    "### nth fibnocci"
   ]
  },
  {
   "cell_type": "markdown",
   "metadata": {},
   "source": [
    "### decimal to binary"
   ]
  },
  {
   "cell_type": "markdown",
   "metadata": {},
   "source": [
    "### binary to decimal"
   ]
  },
  {
   "cell_type": "code",
   "execution_count": 86,
   "metadata": {},
   "outputs": [
    {
     "name": "stdout",
     "output_type": "stream",
     "text": [
      "128\n"
     ]
    }
   ],
   "source": [
    "n=int(input())\n",
    "sum=0\n",
    "count=0\n",
    "while n!=0:\n",
    "    digit=n%10\n",
    "    sum+=digit*(2**count)\n",
    "    count+=1\n",
    "    n//=10\n",
    "print(sum)"
   ]
  },
  {
   "cell_type": "markdown",
   "metadata": {},
   "source": [
    "### binary and decimal\n",
    "input:10  \n",
    "output :5  \n",
    "\n",
    "convert 10 to bin and then apply compliment and then convert the value to decimal  \n"
   ]
  },
  {
   "cell_type": "code",
   "execution_count": 50,
   "metadata": {},
   "outputs": [
    {
     "name": "stdout",
     "output_type": "stream",
     "text": [
      "10\n",
      "1010\n",
      "101\n",
      "101\n",
      "5\n"
     ]
    }
   ],
   "source": [
    "n=int(input())\n",
    "print(n)\n",
    "binary=int(bin(n)[2:])\n",
    "print(binary)\n",
    "temp=binary\n",
    "comprev=0\n",
    "comp=0\n",
    "while temp>0:\n",
    "    digit=temp%10\n",
    "    comprev=comprev*10+digit\n",
    "    temp//=10\n",
    "print(comprev)\n",
    "while comprev>0:\n",
    "    digit=comprev%10\n",
    "    comp=comp*10+digit\n",
    "    comprev//=10\n",
    "print(comp)\n",
    "comp=str(comp)\n",
    "k=int(comp,2)\n",
    "print(k)\n",
    "# print(binary,type(binary))\n",
    "\n",
    "# sum=0\n",
    "# print(n)\n",
    "# while n>0:\n",
    "#     sum+=n%10\n",
    "#     n//=10\n",
    "# print(sum)"
   ]
  },
  {
   "cell_type": "markdown",
   "metadata": {},
   "source": [
    "### non repeted digits  \n",
    "input:  \n",
    "10  \n",
    "20  \n",
    "output:  \n",
    "10,12,13,14,15,16,17,18,19,20"
   ]
  },
  {
   "cell_type": "markdown",
   "metadata": {},
   "source": [
    "# (16-08-24) for loop and patterns"
   ]
  },
  {
   "cell_type": "markdown",
   "metadata": {},
   "source": [
    "## for loop\n",
    ">for i in range (start,stop,step):  \n",
    ">> .........  \n",
    ">> .........  \n",
    "\n",
    ">for i in sequnce:\n",
    ">>......  \n",
    ">>......\n",
    "\n"
   ]
  },
  {
   "cell_type": "markdown",
   "metadata": {},
   "source": [
    "## Patterns"
   ]
  },
  {
   "cell_type": "markdown",
   "metadata": {},
   "source": [
    "### square pattern"
   ]
  },
  {
   "cell_type": "code",
   "execution_count": 87,
   "metadata": {},
   "outputs": [
    {
     "name": "stdout",
     "output_type": "stream",
     "text": [
      "* * * * * * * * \n",
      "* * * * * * * * \n",
      "* * * * * * * * \n",
      "* * * * * * * * \n",
      "* * * * * * * * \n",
      "* * * * * * * * \n",
      "* * * * * * * * \n",
      "* * * * * * * * \n"
     ]
    }
   ],
   "source": [
    "n=int(input())\n",
    "for i in range (n):\n",
    "    for j in range(n):\n",
    "        print('*', end=' ')\n",
    "    print()"
   ]
  },
  {
   "cell_type": "markdown",
   "metadata": {},
   "source": [
    "### lower triangle"
   ]
  },
  {
   "cell_type": "code",
   "execution_count": 90,
   "metadata": {},
   "outputs": [
    {
     "name": "stdout",
     "output_type": "stream",
     "text": [
      "\n",
      "* \n",
      "* * \n",
      "* * * \n",
      "* * * * \n",
      "* * * * * \n",
      "* * * * * * \n",
      "* * * * * * * \n"
     ]
    }
   ],
   "source": [
    "n=int(input())\n",
    "for i in range (n):\n",
    "    for j in range(i):\n",
    "        print('*', end=' ')\n",
    "    print()"
   ]
  },
  {
   "cell_type": "markdown",
   "metadata": {},
   "source": [
    "### lower triangle with numbers"
   ]
  },
  {
   "cell_type": "code",
   "execution_count": 91,
   "metadata": {},
   "outputs": [
    {
     "name": "stdout",
     "output_type": "stream",
     "text": [
      "\n",
      "1 \n",
      "2 3 \n",
      "4 5 6 \n",
      "7 8 9 10 \n",
      "11 12 13 14 15 \n",
      "16 17 18 19 20 21 \n",
      "22 23 24 25 26 27 28 \n"
     ]
    }
   ],
   "source": [
    "n=int(input())\n",
    "sum=1\n",
    "for i in range (n):\n",
    "    for j in range(i):\n",
    "        print(sum , end=' ')\n",
    "        sum+=1\n",
    "    print()"
   ]
  },
  {
   "cell_type": "markdown",
   "metadata": {},
   "source": [
    "### lower triangle with alphabets"
   ]
  },
  {
   "cell_type": "code",
   "execution_count": 96,
   "metadata": {},
   "outputs": [
    {
     "name": "stdout",
     "output_type": "stream",
     "text": [
      "\n",
      "A \n",
      "B C \n",
      "D E F \n",
      "G H I J \n",
      "K L M N O \n"
     ]
    }
   ],
   "source": [
    "n=int(input())\n",
    "char='A'\n",
    "for i in range (n):\n",
    "    for j in range(i):\n",
    "        print(char , end=' ')\n",
    "        char=chr(ord(char)+1)\n",
    "    print()"
   ]
  },
  {
   "cell_type": "markdown",
   "metadata": {},
   "source": [
    "### lower triangle with square/cubes of numbers"
   ]
  },
  {
   "cell_type": "code",
   "execution_count": 97,
   "metadata": {},
   "outputs": [
    {
     "name": "stdout",
     "output_type": "stream",
     "text": [
      "\n",
      "1 \n",
      "4 9 \n",
      "16 25 36 \n",
      "49 64 81 100 \n",
      "121 144 169 196 225 \n",
      "256 289 324 361 400 441 \n",
      "484 529 576 625 676 729 784 \n"
     ]
    }
   ],
   "source": [
    "n=int(input())\n",
    "p=int(input('exponent(2/3)'))\n",
    "sum=1\n",
    "for i in range (n):\n",
    "    for j in range(i):\n",
    "        print(sum**p , end=' ')\n",
    "        sum+=1\n",
    "    print()"
   ]
  },
  {
   "cell_type": "markdown",
   "metadata": {},
   "source": [
    "### reverse half traingle pattern\n"
   ]
  },
  {
   "cell_type": "code",
   "execution_count": 98,
   "metadata": {},
   "outputs": [
    {
     "name": "stdout",
     "output_type": "stream",
     "text": [
      "* * * * * * * * \n",
      "* * * * * * * \n",
      "* * * * * * \n",
      "* * * * * \n",
      "* * * * \n",
      "* * * \n",
      "* * \n",
      "* \n"
     ]
    }
   ],
   "source": [
    "n=int(input())\n",
    "for i in range (n):\n",
    "    for j in range (1,n+1-i):\n",
    "        print(\"*\",end=' ')\n",
    "    print()"
   ]
  },
  {
   "cell_type": "markdown",
   "metadata": {},
   "source": [
    "### triangle pattern\n"
   ]
  },
  {
   "cell_type": "code",
   "execution_count": 114,
   "metadata": {},
   "outputs": [
    {
     "name": "stdout",
     "output_type": "stream",
     "text": [
      "                * \n",
      "              * * * \n",
      "            * * * * * \n",
      "          * * * * * * * \n",
      "        * * * * * * * * * \n",
      "      * * * * * * * * * * * \n",
      "    * * * * * * * * * * * * * \n",
      "  * * * * * * * * * * * * * * * \n"
     ]
    }
   ],
   "source": [
    "n=int(input())\n",
    "for i in range (1,n+1):\n",
    "    for j in range(n-i+1):\n",
    "        print(' ', end=' ')\n",
    "    for j in range(2*i-1):\n",
    "        print('*',end=' ')\n",
    "    # for j in range(i-1):\n",
    "    #     print('*',end=' ')\n",
    "    print()"
   ]
  },
  {
   "cell_type": "code",
   "execution_count": 115,
   "metadata": {},
   "outputs": [
    {
     "name": "stdout",
     "output_type": "stream",
     "text": [
      "        * \n",
      "       * * \n",
      "      * * * \n",
      "     * * * * \n",
      "    * * * * * \n",
      "   * * * * * * \n",
      "  * * * * * * * \n",
      " * * * * * * * * \n"
     ]
    }
   ],
   "source": [
    "n=int(input())\n",
    "for i in range (1,n+1):\n",
    "    for j in range(n-i+1):\n",
    "        print('', end=' ')\n",
    "    for j in range(i):\n",
    "        print('*',end=' ')\n",
    "    # for j in range(i-1):\n",
    "    #     print('*',end=' ')\n",
    "    print()"
   ]
  },
  {
   "cell_type": "markdown",
   "metadata": {},
   "source": [
    "### reverse triangle pattern"
   ]
  },
  {
   "cell_type": "code",
   "execution_count": 126,
   "metadata": {},
   "outputs": [
    {
     "name": "stdout",
     "output_type": "stream",
     "text": [
      " * * * * * * * * \n",
      "  * * * * * * * \n",
      "   * * * * * * \n",
      "    * * * * * \n",
      "     * * * * \n",
      "      * * * \n",
      "       * * \n",
      "        * \n"
     ]
    }
   ],
   "source": [
    "n=int(input())\n",
    "for i in range (1,n+1):\n",
    "    for j in range(i):\n",
    "        print('', end=' ')\n",
    "    for j in range (n-i+1):\n",
    "        print('*',end=' ')\n",
    "    print()"
   ]
  },
  {
   "cell_type": "markdown",
   "metadata": {},
   "source": [
    "### Rhombus"
   ]
  },
  {
   "cell_type": "code",
   "execution_count": 134,
   "metadata": {},
   "outputs": [
    {
     "name": "stdout",
     "output_type": "stream",
     "text": [
      "        * \n",
      "       * * \n",
      "      * * * \n",
      "     * * * * \n",
      "    * * * * * \n",
      "   * * * * * * \n",
      "  * * * * * * * \n",
      " * * * * * * * * \n",
      "  * * * * * * * \n",
      "   * * * * * * \n",
      "    * * * * * \n",
      "     * * * * \n",
      "      * * * \n",
      "       * * \n",
      "        * \n",
      "         \n"
     ]
    }
   ],
   "source": [
    "n=int(input())\n",
    "for i in range (1,n+1):\n",
    "    for j in range(n-i+1):\n",
    "        print('', end=' ')\n",
    "    for j in range(i):\n",
    "        print('*',end=' ')\n",
    "    print()\n",
    "for i in range (1,n+1):\n",
    "    for j in range(i+1):\n",
    "        print('', end=' ')\n",
    "    for j in range (n-i):\n",
    "        print('*',end=' ')\n",
    "    print()\n"
   ]
  },
  {
   "cell_type": "markdown",
   "metadata": {},
   "source": [
    "### Hollow Heart pattern"
   ]
  },
  {
   "cell_type": "code",
   "execution_count": 154,
   "metadata": {},
   "outputs": [
    {
     "name": "stdout",
     "output_type": "stream",
     "text": [
      "  * *   * *   \n",
      "*     *     * \n",
      "*           * \n",
      "  *       *   \n",
      "    *   *     \n",
      "      *       \n"
     ]
    }
   ],
   "source": [
    "for i in range(6):\n",
    "    for j in range (7):\n",
    "        if(i==0 and j%3!=0)or(i==1 and j%3==0)or(i-j==2) or (i+j==8):\n",
    "            print('*',end=' ')\n",
    "        else:\n",
    "            print(' ',end=' ')\n",
    "    print()"
   ]
  },
  {
   "cell_type": "markdown",
   "metadata": {},
   "source": [
    "## Functions"
   ]
  },
  {
   "cell_type": "markdown",
   "metadata": {},
   "source": [
    "\n",
    "A function is a block of code which may be used n number of times when evern programmer requires it.  \n",
    "\n",
    "\n",
    "**Advantages:**\n",
    "- Code reusability\n",
    "- Time complexity\n",
    "- Space complexity\n",
    "- Easy to debug\n",
    "\n",
    "### Function aspects \n",
    "- Function definition\n",
    "- Function call\n",
    "### Function Types\n",
    "- Built-in functions  \n",
    "   - print(),input(),range(),len(),type(),int(),str(),float(),etc.\n",
    "- User defined functions\n",
    "- Anonymous Function (lambda function)\n",
    "### Syntax\n",
    "    - def function_name(parameters):\n",
    "          - .....\n",
    "          - .....\n",
    "          - return value\n",
    "**example:**\n",
    "```python\n",
    "def add():\n",
    "    a=int(input())\n",
    "    b=int(input())\n",
    "    return a+b\n",
    "add()\n",
    "```\n",
    "### Arguments\n",
    "Arguments are the input values that are passed to the function.\n",
    "### Types of Functions based on arguments and return values\n",
    "1. With out arguments and with out return value\n",
    "2. With arguments and with out return value\n",
    "3. With out arguments and with return value\n",
    "4. With arguments and with return value\n",
    "### Types of Arguments\n",
    "1. Default arguments\n",
    "2. Required arguments\n",
    "3. Keyword arguments\n",
    "4. Variable length arguments(Arbitary arguments or *args or **kwargs)\n",
    "\n",
    "\n",
    "\n"
   ]
  },
  {
   "cell_type": "markdown",
   "metadata": {},
   "source": [
    "### leap or not with arg and with return"
   ]
  },
  {
   "cell_type": "code",
   "execution_count": 157,
   "metadata": {},
   "outputs": [
    {
     "name": "stdout",
     "output_type": "stream",
     "text": [
      "Leap\n"
     ]
    }
   ],
   "source": [
    "def leap(n):\n",
    "    if n%4:\n",
    "        return False\n",
    "    else:\n",
    "        return True\n",
    "n=int(input())\n",
    "if leap(n):\n",
    "    print ('Leap')\n",
    "else:\n",
    "     print(\"Not Leap\")"
   ]
  },
  {
   "cell_type": "markdown",
   "metadata": {},
   "source": [
    "### Addition of 3 numbers with arg and with return"
   ]
  },
  {
   "cell_type": "code",
   "execution_count": 167,
   "metadata": {},
   "outputs": [
    {
     "name": "stdout",
     "output_type": "stream",
     "text": [
      "60\n",
      "30\n",
      "10\n"
     ]
    }
   ],
   "source": [
    "def add (a=0,b=0,c=0):\n",
    "    #required arguments-shows error when less args are sent .\n",
    "    #Default arguments- are a=0,b=0,c=0 when there is no argument passed for the value that argument will be implicitly takes the default value\n",
    "    return a+b+c\n",
    "i=int(input())\n",
    "j=int(input())\n",
    "k=int(input())\n",
    "print(add(i,j,k))\n",
    "print(add(i,j))\n",
    "print(add(i))"
   ]
  },
  {
   "cell_type": "markdown",
   "metadata": {},
   "source": [
    "### sum of the digits until 1 digit"
   ]
  },
  {
   "cell_type": "code",
   "execution_count": 8,
   "metadata": {},
   "outputs": [
    {
     "name": "stdout",
     "output_type": "stream",
     "text": [
      "1234567\n",
      "28\n",
      "10\n",
      "1\n",
      "1\n"
     ]
    }
   ],
   "source": [
    "n=int(input())\n",
    "s=10\n",
    "print(n)\n",
    "while s>9:\n",
    "    s=0\n",
    "    while n!=0:\n",
    "        r=n%10\n",
    "        s=s+r\n",
    "        n=n//10\n",
    "    # print(s)\n",
    "    n=s\n",
    "print(s)   "
   ]
  },
  {
   "cell_type": "markdown",
   "metadata": {},
   "source": [
    "### Actual vs Formal arguments\n",
    "The arguments that are passed to the function are called **actual arguments** and the arguments that are defined in the function definition are called **formal arguments**.\n",
    "```python\n",
    "def add(x,y,z): #Formal arguments #Function definition\n",
    "    return x+y+z\n",
    "a=int(input())\n",
    "b=int(input())\n",
    "c=int(input())\n",
    "print(add(a,b,c)) #Actual arguments #Function call\n",
    "```"
   ]
  },
  {
   "cell_type": "markdown",
   "metadata": {},
   "source": [
    "### Default arguments\n",
    "The default arguments are the arguments that take the default values if the value is not provided by the user.\n",
    "\n",
    "```python\n",
    "def add(x,y,z=0): #Formal arguments #Function definition\n",
    "    return x+y+z\n",
    "a=int(input())\n",
    "b=int(input())\n",
    "print(add(a,b)) #Actual arguments #Function call\n",
    "```"
   ]
  },
  {
   "cell_type": "markdown",
   "metadata": {},
   "source": [
    "### Key word arguments\n",
    "The key word arguments are the arguments that are passed to the function with the key word.\n",
    "\n",
    "```python\n",
    "def details(name,age):\n",
    "    print('Name:',name)\n",
    "    print('Age:',age)\n",
    "details(21,'Ravi')\n",
    "details(age=20,name='Ram')\n",
    "```\n",
    "output:\n",
    "```text\n",
    "Name: 21\n",
    "Age: Ravi\n",
    "Name: Ram\n",
    "Age: 20\n",
    "```\n"
   ]
  },
  {
   "cell_type": "markdown",
   "metadata": {},
   "source": [
    "### Variable length arguments or Arbitary arguments or *args or **kwargs\n",
    "The variable length arguments are the arguments that are passed to the function with out any limit.  \n",
    "The variable length arguments are of type tuple(*arg) and dictionary(*kwarg).\n"
   ]
  },
  {
   "cell_type": "code",
   "execution_count": 11,
   "metadata": {},
   "outputs": [
    {
     "name": "stdout",
     "output_type": "stream",
     "text": [
      "(1, 2, 3, 4, 5, 6, 7, 8, 9, 10)\n",
      "1\n",
      "2\n",
      "3\n",
      "4\n",
      "5\n",
      "6\n",
      "7\n",
      "8\n",
      "9\n",
      "10\n"
     ]
    }
   ],
   "source": [
    "def add(*args):\n",
    "    # print(args)\n",
    "    for i in args:\n",
    "        print(i)\n",
    "add(1,2,3,4,5,6,7,8,9,10)"
   ]
  },
  {
   "cell_type": "markdown",
   "metadata": {},
   "source": [
    "### Lambda function\n",
    "The lambda function is an anonymous function that is defined with out any name.  \n",
    "indicated by $\\lambda$  \n",
    "called by using keyword lambda  \n"
   ]
  },
  {
   "cell_type": "code",
   "execution_count": 12,
   "metadata": {},
   "outputs": [
    {
     "name": "stdout",
     "output_type": "stream",
     "text": [
      "30\n"
     ]
    }
   ],
   "source": [
    "add=lambda x,y:x+y\n",
    "print(add(10,20))"
   ]
  },
  {
   "cell_type": "markdown",
   "metadata": {},
   "source": [
    "### Recursive function\n",
    "A function that calls itself is called a recursive function.\n",
    "In Every recursive function there are two conditions:\n",
    "1. Base condition  \n",
    "&nbsp;&nbsp;&nbsp;&nbsp;Base condition is the condition that stops the recursive function.  \n",
    "if there is no base condition the block executes until maximum recursion depth is reached.\n",
    "2. Recursive condition  \n",
    "&nbsp;&nbsp;&nbsp;&nbsp;Recursive condition is the condition that calls the function itself.\n"
   ]
  },
  {
   "cell_type": "code",
   "execution_count": null,
   "metadata": {},
   "outputs": [],
   "source": [
    "def f(n):\n",
    "    if n==0:\n",
    "        return 1\n",
    "    else:\n",
    "        return n*f(n-1)\n",
    "x=int(input())\n",
    "print(f(x))"
   ]
  },
  {
   "cell_type": "markdown",
   "metadata": {},
   "source": [
    "### Palindrome or not using recursion"
   ]
  },
  {
   "cell_type": "code",
   "execution_count": 25,
   "metadata": {},
   "outputs": [
    {
     "name": "stdout",
     "output_type": "stream",
     "text": [
      "Palindrome\n"
     ]
    }
   ],
   "source": [
    "n=int(input())\n",
    "def p(n,s=0):\n",
    "    if n==0:\n",
    "        return s\n",
    "    else:\n",
    "        s=s*10+n%10\n",
    "        return p(n//10,s)\n",
    "s=p(n)\n",
    "if s==n:\n",
    "    print('Palindrome')\n",
    "else :\n",
    "    print('Not Palindrome')"
   ]
  },
  {
   "cell_type": "markdown",
   "metadata": {},
   "source": [
    "### Sum of digits using recursion"
   ]
  },
  {
   "cell_type": "code",
   "execution_count": 46,
   "metadata": {},
   "outputs": [
    {
     "name": "stdout",
     "output_type": "stream",
     "text": [
      "6\n"
     ]
    }
   ],
   "source": [
    "n=int(input())\n",
    "def sum(n,s=0):\n",
    "    if n==0:\n",
    "        if s>9:\n",
    "            return sum(s,0)\n",
    "        else:\n",
    "            return s\n",
    "    else:\n",
    "        s=s+n%10\n",
    "        return sum(n//10,s)\n",
    "print(sum(n))"
   ]
  },
  {
   "cell_type": "markdown",
   "metadata": {},
   "source": [
    "# (18-08-24) List,Tuple,Dictionary"
   ]
  },
  {
   "cell_type": "markdown",
   "metadata": {},
   "source": [
    "## List"
   ]
  },
  {
   "cell_type": "markdown",
   "metadata": {},
   "source": [
    "A list is a collection of elements that are ordered and changeable.  \n",
    "- List is mutable.  \n",
    "- List accepts Heterogeneous elements(different Data types)\n",
    "- insertion and deletion is possible\n",
    "- List allows indexing and slicing\n",
    "- List has positvie index from left to right and negative index from right to left\n",
    "- List is represented by square brackets[ ]\n"
   ]
  },
  {
   "cell_type": "code",
   "execution_count": 65,
   "metadata": {},
   "outputs": [
    {
     "name": "stdout",
     "output_type": "stream",
     "text": [
      "hi\n",
      "2.3\n"
     ]
    }
   ],
   "source": [
    "l=[10,2.3,'hi',(10,20)]\n",
    "k=l[2] #positive index\n",
    "print (k)\n",
    "k=l[-3] #negative index\n",
    "print(k)\n",
    "\n"
   ]
  },
  {
   "cell_type": "markdown",
   "metadata": {},
   "source": [
    "### List Functions\n",
    "\n"
   ]
  },
  {
   "cell_type": "markdown",
   "metadata": {},
   "source": [
    "1. append():\n",
    "    - It is used to add the element at the end of the list.\n",
    "    - syntax: ```old_list.append(element)```\n",
    "2. insert():\n",
    "    - It is used to add the element at the specified index.\n",
    "    - syntax: ```old_list.insert(index,element)```\n",
    "3. count() :\n",
    "    - It is used to count the number of times the element is repeated in the list.\n",
    "    - syntax: ```listname.count(value)```\n",
    "4. index():\n",
    "    - It is used to get the index of the element.\n",
    "    - syntax: ```listname.index(value)```\n",
    "    - if value is not there it shows a value error:value not found\n",
    "5. remove():\n",
    "    - It is used to remove the element from the list.\n",
    "    - syntax: ```listname.remove(value)```\n",
    "    - if value is not there it shows a value error:value not found\n",
    "6. pop():\n",
    "    - It is used to remove the element present at last index.\n",
    "    - syntax: ```listname.pop()```\n",
    "7. reverse():\n",
    "    - It is used to reverse the list.\n",
    "    - syntax: ```listname.reverse()```\n",
    "8. sort():\n",
    "    - It is used to sort the list in ascending order.\n",
    "    - syntax: ```listname.sort()```\n",
    "9. copy():\n",
    "    - It is used to copy one list to the other.\n",
    "    - syntax: ```new_list=old_list.copy()```\n",
    "            "
   ]
  }
 ],
 "metadata": {
  "kernelspec": {
   "display_name": "Python 3 (ipykernel)",
   "language": "python",
   "name": "python3"
  },
  "language_info": {
   "codemirror_mode": {
    "name": "ipython",
    "version": 3
   },
   "file_extension": ".py",
   "mimetype": "text/x-python",
   "name": "python",
   "nbconvert_exporter": "python",
   "pygments_lexer": "ipython3",
   "version": "2022.10.undefined"
  }
 },
 "nbformat": 4,
 "nbformat_minor": 2
}
